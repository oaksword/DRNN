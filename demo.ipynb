{
 "cells": [
  {
   "cell_type": "code",
   "execution_count": 1,
   "id": "6a15c1b3-eb88-49e2-b3f7-6424984cdc98",
   "metadata": {},
   "outputs": [],
   "source": [
    "import numpy as np\n",
    "import torch\n",
    "import torch.nn as nn\n",
    "from utils import DRNN, similarity"
   ]
  },
  {
   "cell_type": "code",
   "execution_count": 2,
   "id": "ffa5f51c-8532-49cc-b720-81c7349edae6",
   "metadata": {},
   "outputs": [],
   "source": [
    "n, p, k = 100, 10, 1\n",
    "beta = np.zeros([p, k])\n",
    "beta[1, 0] = 1\n",
    "\n",
    "x = np.random.randn(n, p)\n",
    "y = (x @ beta) ** 4 + np.random.standard_t(df=5, size=(n, 1))"
   ]
  },
  {
   "cell_type": "code",
   "execution_count": 3,
   "id": "eaa09f01-4009-4de8-869f-79596b07e47d",
   "metadata": {},
   "outputs": [],
   "source": [
    "model = DRNN(k, 0, 1e-1, 1000, 64, 200, 0, 'cuda')\n",
    "model.run(x, y, max_try=5)"
   ]
  },
  {
   "cell_type": "code",
   "execution_count": 4,
   "id": "e77ea533-b374-4e5d-a844-a59a49fb9536",
   "metadata": {},
   "outputs": [
    {
     "data": {
      "text/plain": [
       "tensor(0.0840)"
      ]
     },
     "execution_count": 4,
     "metadata": {},
     "output_type": "execute_result"
    }
   ],
   "source": [
    "similarity(beta, model.beta)"
   ]
  },
  {
   "cell_type": "code",
   "execution_count": null,
   "id": "b273fbc4-b034-4aae-9cef-b8e2456a7a62",
   "metadata": {},
   "outputs": [],
   "source": []
  }
 ],
 "metadata": {
  "kernelspec": {
   "display_name": "Python 3 (ipykernel)",
   "language": "python",
   "name": "python3"
  },
  "language_info": {
   "codemirror_mode": {
    "name": "ipython",
    "version": 3
   },
   "file_extension": ".py",
   "mimetype": "text/x-python",
   "name": "python",
   "nbconvert_exporter": "python",
   "pygments_lexer": "ipython3",
   "version": "3.7.16"
  }
 },
 "nbformat": 4,
 "nbformat_minor": 5
}
